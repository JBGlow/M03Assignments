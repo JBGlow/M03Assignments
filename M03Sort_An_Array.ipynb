{
 "cells": [
  {
   "cell_type": "code",
   "execution_count": 1,
   "id": "607c54e0",
   "metadata": {},
   "outputs": [],
   "source": [
    "class Solution:\n",
    "    def sort012(self,arr,n):\n",
    "        # code here\n",
    "        \n",
    "        #declare step and counter variables\n",
    "        i = 0\n",
    "        count_zero = 0\n",
    "        count_one = 0\n",
    "        count_two = 0\n",
    "        \n",
    "        #while loop checks each digit and counts the number of 0s 1s and 2s\n",
    "        while i < n:\n",
    "            if arr[i] == 0:\n",
    "                count_zero = count_zero + 1\n",
    "            elif arr[i] == 1:\n",
    "                count_one = count_one + 1\n",
    "            else:\n",
    "                count_two = count_two + 1\n",
    "            i = i + 1\n",
    "        \n",
    "        #step reset\n",
    "        i = 0  \n",
    "        \n",
    "        #changes each number in the array according to counters in previous step\n",
    "        #array should be sorted in order by the end of this while loop\n",
    "        while(i < count_zero):  \n",
    "            arr[i] = 0  \n",
    "            i = i + 1  \n",
    "        i = count_zero  \n",
    "        while(i < count_zero + count_one):  \n",
    "            arr[i] = 1  \n",
    "            i = i + 1  \n",
    "        i = count_zero + count_one  \n",
    "        while(i < n):  \n",
    "            arr[i] = 2  \n",
    "            i = i + 1"
   ]
  },
  {
   "cell_type": "code",
   "execution_count": null,
   "id": "f3f36682",
   "metadata": {},
   "outputs": [],
   "source": []
  }
 ],
 "metadata": {
  "kernelspec": {
   "display_name": "Python 3 (ipykernel)",
   "language": "python",
   "name": "python3"
  },
  "language_info": {
   "codemirror_mode": {
    "name": "ipython",
    "version": 3
   },
   "file_extension": ".py",
   "mimetype": "text/x-python",
   "name": "python",
   "nbconvert_exporter": "python",
   "pygments_lexer": "ipython3",
   "version": "3.11.5"
  }
 },
 "nbformat": 4,
 "nbformat_minor": 5
}
