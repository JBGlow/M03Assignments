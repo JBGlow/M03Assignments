{
 "cells": [
  {
   "cell_type": "code",
   "execution_count": 13,
   "id": "ae381b79",
   "metadata": {},
   "outputs": [],
   "source": [
    "# Exercise 7.4\n",
    "things = [\"mozzarella\", \"cinderella\", \"salmonella\"]"
   ]
  },
  {
   "cell_type": "code",
   "execution_count": 16,
   "id": "7ce6769e",
   "metadata": {},
   "outputs": [
    {
     "name": "stdout",
     "output_type": "stream",
     "text": [
      "['mozzarella', 'Cinderella', 'salmonella']\n"
     ]
    }
   ],
   "source": [
    "# Exercise 7.5\n",
    "things[1] = things[1].capitalize()\n",
    "print(things)\n",
    "\n",
    "#Running the capitalize() function on 'cinderella' doesn't change the list by itself; \n",
    "#the variable in things[1] index still needs to be reassigned with operator = to change the list (as shown above)"
   ]
  },
  {
   "cell_type": "code",
   "execution_count": 17,
   "id": "666dc431",
   "metadata": {},
   "outputs": [
    {
     "name": "stdout",
     "output_type": "stream",
     "text": [
      "['MOZZARELLA', 'Cinderella', 'salmonella']\n"
     ]
    }
   ],
   "source": [
    "# Exercise 7.6\n",
    "things[0] = things[0].upper()\n",
    "print(things)"
   ]
  },
  {
   "cell_type": "code",
   "execution_count": 18,
   "id": "53df309b",
   "metadata": {},
   "outputs": [
    {
     "name": "stdout",
     "output_type": "stream",
     "text": [
      "['MOZZARELLA', 'Cinderella']\n"
     ]
    }
   ],
   "source": [
    "# Exercise 7.7\n",
    "things.remove(\"salmonella\")\n",
    "print(things)"
   ]
  },
  {
   "cell_type": "code",
   "execution_count": 20,
   "id": "b1af6552",
   "metadata": {},
   "outputs": [],
   "source": [
    "# Exercise 9.1\n",
    "def good():\n",
    "    return [\"Harry\", \"Ron\", \"Hermoine\"]"
   ]
  },
  {
   "cell_type": "code",
   "execution_count": 21,
   "id": "5d071e26",
   "metadata": {},
   "outputs": [
    {
     "data": {
      "text/plain": [
       "['Harry', 'Ron', 'Hermoine']"
      ]
     },
     "execution_count": 21,
     "metadata": {},
     "output_type": "execute_result"
    }
   ],
   "source": [
    "good()"
   ]
  },
  {
   "cell_type": "code",
   "execution_count": 13,
   "id": "2480b424",
   "metadata": {},
   "outputs": [
    {
     "name": "stdout",
     "output_type": "stream",
     "text": [
      "5\n"
     ]
    }
   ],
   "source": [
    "# Exercise 9.2\n",
    "\n",
    "#Define Generator get_odds()\n",
    "def get_odds():\n",
    "    yield (n for n in range(10) if n % 2 != 0)\n",
    "\n",
    "#create list and append that list through a for loop\n",
    "odds_list = []\n",
    "for x in next(get_odds()):\n",
    "    odds_list.append(x)\n",
    "\n",
    "#print the third item in the odds_list\n",
    "print(odds_list[2])\n"
   ]
  },
  {
   "cell_type": "code",
   "execution_count": null,
   "id": "976484e1",
   "metadata": {},
   "outputs": [],
   "source": []
  },
  {
   "cell_type": "code",
   "execution_count": null,
   "id": "7373c293",
   "metadata": {},
   "outputs": [],
   "source": []
  }
 ],
 "metadata": {
  "kernelspec": {
   "display_name": "Python 3 (ipykernel)",
   "language": "python",
   "name": "python3"
  },
  "language_info": {
   "codemirror_mode": {
    "name": "ipython",
    "version": 3
   },
   "file_extension": ".py",
   "mimetype": "text/x-python",
   "name": "python",
   "nbconvert_exporter": "python",
   "pygments_lexer": "ipython3",
   "version": "3.11.5"
  }
 },
 "nbformat": 4,
 "nbformat_minor": 5
}
