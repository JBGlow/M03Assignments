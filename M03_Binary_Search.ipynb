{
 "cells": [
  {
   "cell_type": "code",
   "execution_count": null,
   "id": "21fc7ea0",
   "metadata": {},
   "outputs": [],
   "source": [
    "class Solution:\t\n",
    "\tdef binarysearch(self, arr, n, k):\n",
    "        #determine length of array\n",
    "        left = 0\n",
    "        right = len(arr) - 1\n",
    "        \n",
    "        #keep guessing until target is found, or all array values have been checked\n",
    "        while left <= right:\n",
    "            mid = (left + right) //2 #chooses mid as value in the middle of array\n",
    "            guess = arr[mid]\n",
    "            if k == guess:\n",
    "                return mid\n",
    "            elif k < guess:\n",
    "                right = mid - 1 #cuts guessable section of array in half (remove right side)\n",
    "            else:\n",
    "                left = mid + 1 #cuts guessable section of array in half (remove left side)\n",
    "                \n",
    "        return -1\n"
   ]
  }
 ],
 "metadata": {
  "kernelspec": {
   "display_name": "Python 3 (ipykernel)",
   "language": "python",
   "name": "python3"
  },
  "language_info": {
   "codemirror_mode": {
    "name": "ipython",
    "version": 3
   },
   "file_extension": ".py",
   "mimetype": "text/x-python",
   "name": "python",
   "nbconvert_exporter": "python",
   "pygments_lexer": "ipython3",
   "version": "3.11.5"
  }
 },
 "nbformat": 4,
 "nbformat_minor": 5
}
